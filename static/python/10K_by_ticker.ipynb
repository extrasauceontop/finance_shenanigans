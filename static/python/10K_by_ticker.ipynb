{
 "cells": [
  {
   "cell_type": "code",
   "execution_count": 2,
   "metadata": {},
   "outputs": [],
   "source": [
    "import re\n",
    "import requests\n",
    "import unicodedata\n",
    "from bs4 import BeautifulSoup"
   ]
  },
  {
   "cell_type": "code",
   "execution_count": 3,
   "metadata": {},
   "outputs": [],
   "source": [
    "#define the endpoint\n",
    "endpoint = r\"https://www.sec.gov/cgi-bin/browse-edgar\"\n",
    "\n",
    "# define parameters\n",
    "param_dict = {\"action\": \"getcompany\",\n",
    "             \"CIK\": \"M\",\n",
    "             \"type\": \"10-k\",\n",
    "             \"owner\": \"exclude\",\n",
    "             \"output\": \"atom\"}\n",
    "\n",
    "# define response\n",
    "response = requests.get(url = endpoint, params = param_dict)\n",
    "soup = BeautifulSoup(response.content, \"lxml\")\n",
    "\n",
    "# find url to get to most recent 10-K filings\n",
    "new_url = soup.find(\"entry\").find(\"filing-href\").text.strip().replace(\"-index.htm\", \".txt\")\n",
    "\n",
    "response = requests.get(url = new_url)\n",
    "soup = BeautifulSoup(response.content, \"lxml\")"
   ]
  },
  {
   "cell_type": "code",
   "execution_count": 4,
   "metadata": {},
   "outputs": [],
   "source": [
    "# Function to normalize the text\n",
    "def restore_windows_1252_characters(restore_string):\n",
    "    def to_windows_1252(match):\n",
    "        try:\n",
    "            return bytes([ord(match.group(0))]).decode(\"windows-1252\")\n",
    "        except UnicodeDecodeError:\n",
    "            return \" \"\n",
    "    \n",
    "    return re.sub(r'[\\u0080-\\u0099]', to_windows_1252, restore_string)"
   ]
  },
  {
   "cell_type": "code",
   "execution_count": 5,
   "metadata": {},
   "outputs": [],
   "source": [
    "# use the url to go to the specific text file\n",
    "new_html_text = new_url\n",
    "\n",
    "# get the accession number\n",
    "url_split = new_html_text.split(\"/\")\n",
    "accession_number = url_split[-1].replace(\".txt\", \"\")\n",
    "\n",
    "# grab the response\n",
    "response = requests.get(new_html_text)\n",
    "\n",
    "# parse the response\n",
    "soup = BeautifulSoup(response.content, \"lxml\")"
   ]
  },
  {
   "cell_type": "code",
   "execution_count": 6,
   "metadata": {},
   "outputs": [],
   "source": [
    "# define a new dictionary to house filings\n",
    "master_filings_dict = {}\n",
    "\n",
    "# add the key to the dict and add a new level\n",
    "master_filings_dict[accession_number] = {}\n",
    "\n",
    "# add the next levels\n",
    "master_filings_dict[accession_number][\"sec_header_content\"] = {}\n",
    "master_filings_dict[accession_number][\"filing_documtents\"] = None"
   ]
  },
  {
   "cell_type": "code",
   "execution_count": 7,
   "metadata": {},
   "outputs": [],
   "source": [
    "# grab the sec-header document\n",
    "sec_header_tag = soup.find('sec-header')\n",
    "\n",
    "#store the sec header content inside the dictionary\n",
    "master_filings_dict[accession_number][\"sec_header_content\"][\"sec_header_code\"] = sec_header_tag"
   ]
  },
  {
   "cell_type": "code",
   "execution_count": 8,
   "metadata": {},
   "outputs": [
    {
     "name": "stdout",
     "output_type": "stream",
     "text": [
      "10-K\n",
      "EX-4.8\n",
      "EX-10.18\n",
      "EX-21\n",
      "EX-23\n",
      "EX-24\n",
      "EX-31.1\n",
      "EX-31.2\n",
      "EX-32.1\n",
      "EX-32.2\n",
      "EX-101.SCH\n",
      "EX-101.CAL\n",
      "EX-101.DEF\n",
      "EX-101.LAB\n",
      "EX-101.PRE\n",
      "GRAPHIC\n"
     ]
    }
   ],
   "source": [
    "# initialize master document dictionary\n",
    "master_document_dict = {}\n",
    "\n",
    "# loop through each document in the filing\n",
    "for filing_document in soup.find_all('document'):\n",
    "    \n",
    "    # define my document id\n",
    "    document_id = filing_document.type.find(text=True, recursive = False).strip()\n",
    "    print(document_id)\n",
    "    \n",
    "    if document_id == \"GRAPHIC\":\n",
    "        break\n",
    "    \n",
    "    # document sequence\n",
    "    document_sequence = filing_document.sequence.find(text=True, recursive = False).strip()\n",
    "    \n",
    "    # document filename\n",
    "    document_filename = filing_document.filename.find(text=True, recursive = False).strip()\n",
    "    \n",
    "    # document description\n",
    "    document_description = filing_document.description.find(text=True, recursive = False).strip()\n",
    "    \n",
    "    # insert the key\n",
    "    master_document_dict[document_id] = {}\n",
    "    \n",
    "    # add the different parts of the document\n",
    "    master_document_dict[document_id][\"document_sequence\"] = document_sequence\n",
    "    master_document_dict[document_id][\"document_filename\"] = document_filename\n",
    "    master_document_dict[document_id][\"document_description\"] = document_description\n",
    "    \n",
    "    # add the document content itself\n",
    "    master_document_dict[document_id][\"document_code\"] = filing_document.extract()\n",
    "    \n",
    "    # get all the text in the document\n",
    "    filing_doc_text = filing_document.find(\"text\").extract()\n",
    "    \n",
    "    # get all thematic breaks\n",
    "    all_thematic_breaks = filing_doc_text.find_all(\"hr\",{\"style\": \"page-break-after:always\"})\n",
    "    \n",
    "    # convert all the breaks into strings\n",
    "    all_thematic_breaks = [str(thematic_break) for thematic_break in all_thematic_breaks]\n",
    "    \n",
    "    # prep the document for being split\n",
    "    filing_doc_string = str(filing_doc_text)\n",
    "    \n",
    "    if len(all_thematic_breaks) > 0:\n",
    "        \n",
    "        # creates our pattern\n",
    "        regex_delimited_pattern = \"|\".join(map(re.escape, all_thematic_breaks))\n",
    "        \n",
    "        # split the document along the thematic breaks\n",
    "        split_filing_string = re.split(regex_delimited_pattern, filing_doc_string)\n",
    "        \n",
    "        # store the document in the dictionary\n",
    "        master_document_dict[document_id][\"pages_code\"] = split_filing_string\n",
    "        \n",
    "    elif len(all_thematic_breaks) == 0:\n",
    "        master_document_dict[document_id][\"pages_code\"] = [filing_doc_string]\n",
    "        \n",
    "# store the documents in the master_filing_dictionary\n",
    "master_filings_dict[accession_number][\"filing_documents\"] = master_document_dict"
   ]
  },
  {
   "cell_type": "code",
   "execution_count": 9,
   "metadata": {},
   "outputs": [],
   "source": [
    "# first grab all the documents\n",
    "filing_documents = master_filings_dict[accession_number][\"filing_documents\"]\n",
    "\n",
    "# loop through each document\n",
    "for document_id in filing_documents:\n",
    "    \n",
    "    # grab all the pages for each document\n",
    "    document_pages = filing_documents[document_id][\"pages_code\"]\n",
    "    \n",
    "    # page length\n",
    "    pages_length = len(document_pages)\n",
    "    \n",
    "    # initialize some dictionaries\n",
    "    repaired_pages = {}\n",
    "    normalized_text = {}\n",
    "    \n",
    "    for index, page in enumerate(document_pages):\n",
    "        \n",
    "        # pass it through the parser to repair it\n",
    "        page_soup = BeautifulSoup(page, \"html5\")\n",
    "        \n",
    "        # grab the text from each page\n",
    "        page_text = page_soup.html.body.get_text(\" \", strip = True)\n",
    "        \n",
    "        # normalize the text\n",
    "        page_text_norm = restore_windows_1252_characters(unicodedata.normalize(\"NFKD\", page_text))\n",
    "        \n",
    "        # additional cleaning\n",
    "        page_text_norm = page_text_norm.replace(\"  \", \" \").replace(\"\\n\", \" \")\n",
    "        \n",
    "        # define our page number\n",
    "        page_number = index+1\n",
    "        \n",
    "        # add normalized text to the dictionary\n",
    "        normalized_text[page_number] = page_text_norm\n",
    "        \n",
    "        # add the repaired html code to the dictionary\n",
    "        repaired_pages[page_number] = page_soup\n",
    "    \n",
    "    # add the normalized text dictionary to the master filing dictionary\n",
    "    filing_documents[document_id][\"page_normalized_text\"] = normalized_text\n",
    "    \n",
    "    # add the repaired pages to the master filing dictionary\n",
    "    filing_documents[document_id][\"pages_code\"] = repaired_pages\n",
    "    \n",
    "    # add the page numbers we generate\n",
    "    gen_page_numbers = list(repaired_pages.keys())\n",
    "    \n",
    "    filing_documents[document_id][\"page_numbers_generated\"] = gen_page_numbers\n",
    "\n",
    "master_filings_dict[accession_number][\"filing_documents\"] = filing_documents"
   ]
  },
  {
   "cell_type": "code",
   "execution_count": 10,
   "metadata": {},
   "outputs": [
    {
     "data": {
      "text/plain": [
       "'Exhibit Number Description Document if Incorporated by Reference 10.7 Executive Severance Plan, effective November 1, 2009, as revised and restated January 1, 2014 * Exhibit 10.14 to the Company’s Annual Report on Form 10-K (File No. 1-13536) for the fiscal year ended February 1, 2014 (“2013 Form 10-K”) 10.7.1 Senior Executive Severance Plan effective as of April 1, 2018 * Exhibit 10.9.1 to the Company\\'s Annual Report on Form 10-K (File No. 1-13536) for the fiscal year ended February 3, 2018 (\"2017 Form 10-K\") 10.8 Form of Nonqualified Stock Option Agreement under the 2009 Omnibus Incentive Compensation Plan (for Executives and Key Employees) * Exhibit 10.15.3 to the Company\\'s Annual Report on Form 10-K (File No. 1-13536) for the fiscal year ended February 2, 2013 (\"2012 Form 10-K\") 10.8.1 Form of Nonqualified Stock Option Agreement under the Amended and Restated 2009 Omnibus Incentive Compensation Plan (for Executives and Key Employees) * Exhibit 10.14.4 to 2014 Form 10-K 10.8.2 Form of Nonqualified Stock Option Agreement under the Amended and Restated 2009 Omnibus Incentive Compensation Plan (for Executives and Key Employees), as amended * Exhibit 10.10.5 to 2017 Form 10-K 10.8.3 Form of Stock Option Terms and Conditions under the 2018 Equity and Incentive Compensation Plan * Exhibit 10.1 to the Company\\'s Quarterly Report on Form 10-Q (File No. 1-13536) for the quarter ended May 4, 2019 10.9 Form of Time-Based Restricted Stock Agreement under the 2009 Omnibus Incentive Compensation Plan * Exhibit 10.3 to the Company\\'s Current Report on Form 8-K filed March 25, 2010 10.10 2017-2019 Performance-Based Restricted Stock Unit Terms and Conditions under the Amended and Restated 2009 Omnibus Incentive Compensation Plan * Exhibit 10.13.2 to the Company\\'s Quarterly Report on Form 10-Q filed August 25, 2017 10.10.1 2018-2020 Performance-Based Restricted Stock Unit Terms and Conditions under the Amended and Restated 2009 Omnibus Incentive Compensation Plan * Exhibit 10.12.2 to 2017 Form 10-K 10.10.2 2019-2021 Performance-Based Restricted Stock Unit Terms and Conditions under the 2018 Equity and Incentive Compensation Plan * Exhibit 10.2 to the Company\\'s Quarterly Report on Form 10-Q (File No. 1-13536) for the quarter ended May 4, 2019 10.11 Form of Time-Based Restricted Stock Unit Agreement under the 2009 Omnibus Incentive Compensation Plan * Exhibit 10.19 to 2012 Form 10-K 10.11.1 Form of Time-Based Restricted Stock Unit Agreement under the Amended and Restated 2009 Omnibus Incentive Compensation Plan * Exhibit 10.18.1 to 2014 Form 10-K 10.11.2 Form of Time-Based Restricted Stock Unit Agreement under the Amended and Restated 2009 Omnibus Incentive Compensation Plan (with dividend equivalents) * Exhibit 10.13.2 to 2017 Form 10-K 10.11.3 Form of Time-Based Restricted Stock Unit Agreement under the Amended and Restated 2009 Omnibus Incentive Compensation Plan, as amended * Exhibit 10.13.3 to 2017 Form 10-K 10.11.4 Form of Time-Based Restricted Stock Unit Terms and Conditions under the 2018 Equity and Incentive Compensation Plan * Exhibit 10.3 to the Company\\'s Quarterly Report on Form 10-Q (File No. 1-13536) for the quarter ended May 4, 2019 10.12 Supplementary Executive Retirement Plan * Exhibit 10.29 to 2008 Form 10-K 45'"
      ]
     },
     "execution_count": 10,
     "metadata": {},
     "output_type": "execute_result"
    }
   ],
   "source": [
    "master_filings_dict[accession_number][\"filing_documents\"][\"10-K\"][\"page_normalized_text\"][45]"
   ]
  },
  {
   "cell_type": "code",
   "execution_count": null,
   "metadata": {},
   "outputs": [],
   "source": []
  }
 ],
 "metadata": {
  "kernelspec": {
   "display_name": "Python [conda env:pythondata] *",
   "language": "python",
   "name": "conda-env-pythondata-py"
  },
  "language_info": {
   "codemirror_mode": {
    "name": "ipython",
    "version": 3
   },
   "file_extension": ".py",
   "mimetype": "text/x-python",
   "name": "python",
   "nbconvert_exporter": "python",
   "pygments_lexer": "ipython3",
   "version": "3.6.9"
  }
 },
 "nbformat": 4,
 "nbformat_minor": 2
}
